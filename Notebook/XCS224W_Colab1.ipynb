{
  "cells": [
    {
      "cell_type": "markdown",
      "metadata": {
        "id": "view-in-github",
        "colab_type": "text"
      },
      "source": [
        "<a href=\"https://colab.research.google.com/github/ReemaY/ML-with-Graphs/blob/main/Notebook/XCS224W_Colab1.ipynb\" target=\"_parent\"><img src=\"https://colab.research.google.com/assets/colab-badge.svg\" alt=\"Open In Colab\"/></a>"
      ]
    },
    {
      "cell_type": "markdown",
      "metadata": {
        "id": "XuXWJLEm2UWS"
      },
      "source": [
        "# **CS224W - Colab 1**\n",
        "\n",
        "[![Open In Colab](https://colab.research.google.com/assets/colab-badge.svg)](https://colab.research.google.com/github/scpd-proed/XCS224W-Colab1/blob/main/Notebook/XCS224W_Colab1.ipynb)\n",
        "\n",
        "Before opening the colab with the badge, you would need to allow Google Colab to access the GitHub private repositories. Please check therefore [this tutorial](https://colab.research.google.com/github/googlecolab/colabtools/blob/master/notebooks/colab-github-demo.ipynb#:~:text=Navigate%20to%20http%3A%2F%2Fcolab,to%20read%20the%20private%20files.).\n",
        "\n",
        "If colab is opened with this badge, make sure please **save copy to drive** in 'File' menu before running the notebook."
      ]
    },
    {
      "cell_type": "markdown",
      "metadata": {
        "id": "8gzsP50bF6Gb"
      },
      "source": [
        "In this Colab, you will write a pipeline for **learning node embeddings** in a graph. You will go through the following 3 steps:\n",
        "\n",
        "1.   To start, you will load the familiar [Karate Club Network](https://en.wikipedia.org/wiki/Zachary%27s_karate_club) from Colab 0. You will explore multiple graph statistics over this graph.\n",
        "2.   You will then work to transform the graph structure into a PyTorch tensor so that you can perform machine learning over the graph.\n",
        "\n",
        "3. Finally, you will write your first graph learning algorithm: a node embedding model. For simplicity, your model is simpler than the DeepWalk and node2vec algorithms taught in Module 1, Unit 1.2 - Node Embeddings. Nevertheless, it will still be rewarding and challenging, as you will write the whole procedure from scratch via PyTorch.\n",
        "\n",
        "Let's get started!\n",
        "\n",
        "**Note**: Make sure to **sequentially run all the cells** so that the intermediate variables / packages will carry over to the next cell"
      ]
    },
    {
      "cell_type": "markdown",
      "metadata": {
        "id": "FvduTt3oKimg"
      },
      "source": [
        "## Building + Debugging Notes\n",
        "While working through this Colab and future Colabs, we strongly encourage you to follow a couple of building / debugging strategies:\n",
        "- During debugging make sure to run your notebook using the CPU runtime. You can change the notebook runtime by selecting `Runtime` and then `Change runtime type`. From the dropdown, select `None` as the `hardware accelerator`.\n",
        "- When working with PyTorch and Neural Network models, understanding the shapes of different tensors, especially the input and output tensors is incredibly helpful.\n",
        "- When training models, it is helpful to start by only running 1 epoch or even just a couple of batch iterations. This way you can check that all your tensor shapes and logic match up, while also tracking expected behavior, such as a decreasing training loss. Remember to comment out / save the default number of epochs that we provide you.\n"
      ]
    },
    {
      "cell_type": "markdown",
      "metadata": {
        "id": "Nwwq0nSdmsOL"
      },
      "source": [
        "# 1) Graph Basics\n",
        "To start, load the [Karate Club Network](https://en.wikipedia.org/wiki/Zachary%27s_karate_club), a classical graph in network science. As discussed in the introduction, you will begin by exploring multiple graph statistics for this graph."
      ]
    },
    {
      "cell_type": "markdown",
      "metadata": {
        "id": "FDkpByYYfSzb"
      },
      "source": [
        "## Setup\n",
        "As introduced in Colab 0, NetworkX is a powerful package for storing and manipulating graphs. We will heavily rely on NetworkX throughout this Colab."
      ]
    },
    {
      "cell_type": "code",
      "execution_count": 10,
      "metadata": {
        "id": "VWPkJjPAfVNW"
      },
      "outputs": [],
      "source": [
        "import networkx as nx\n",
        "import os"
      ]
    },
    {
      "cell_type": "markdown",
      "metadata": {
        "id": "VqUnYT5qUZYh"
      },
      "source": [
        "## Zachary's karate club network\n",
        "\n",
        "The [Karate Club Network](https://en.wikipedia.org/wiki/Zachary%27s_karate_club) is a social network graph of 34 members of a karate club, where links exist between members who have interacted outside the club."
      ]
    },
    {
      "cell_type": "code",
      "execution_count": 11,
      "metadata": {
        "colab": {
          "base_uri": "https://localhost:8080/",
          "height": 187
        },
        "id": "VIETqEfrfy5Y",
        "outputId": "cfca5ea2-e209-4c5c-bd4a-18e2466487c1"
      },
      "outputs": [
        {
          "output_type": "execute_result",
          "data": {
            "text/plain": [
              "networkx.classes.graph.Graph"
            ],
            "text/html": [
              "<div style=\"max-width:800px; border: 1px solid var(--colab-border-color);\"><style>\n",
              "      pre.function-repr-contents {\n",
              "        overflow-x: auto;\n",
              "        padding: 8px 12px;\n",
              "        max-height: 500px;\n",
              "      }\n",
              "\n",
              "      pre.function-repr-contents.function-repr-contents-collapsed {\n",
              "        cursor: pointer;\n",
              "        max-height: 100px;\n",
              "      }\n",
              "    </style>\n",
              "    <pre style=\"white-space: initial; background:\n",
              "         var(--colab-secondary-surface-color); padding: 8px 12px;\n",
              "         border-bottom: 1px solid var(--colab-border-color);\"><b>networkx.classes.graph.Graph</b><br/>def __init__(incoming_graph_data=None, **attr)</pre><pre class=\"function-repr-contents function-repr-contents-collapsed\" style=\"\"><a class=\"filepath\" style=\"display:none\" href=\"#\">/usr/local/lib/python3.11/dist-packages/networkx/classes/graph.py</a>Base class for undirected graphs.\n",
              "\n",
              "A Graph stores nodes and edges with optional data, or attributes.\n",
              "\n",
              "Graphs hold undirected edges.  Self loops are allowed but multiple\n",
              "(parallel) edges are not.\n",
              "\n",
              "Nodes can be arbitrary (hashable) Python objects with optional\n",
              "key/value attributes, except that `None` is not allowed as a node.\n",
              "\n",
              "Edges are represented as links between nodes with optional\n",
              "key/value attributes.\n",
              "\n",
              "Parameters\n",
              "----------\n",
              "incoming_graph_data : input graph (optional, default: None)\n",
              "    Data to initialize graph. If None (default) an empty\n",
              "    graph is created.  The data can be any format that is supported\n",
              "    by the to_networkx_graph() function, currently including edge list,\n",
              "    dict of dicts, dict of lists, NetworkX graph, 2D NumPy array, SciPy\n",
              "    sparse matrix, or PyGraphviz graph.\n",
              "\n",
              "attr : keyword arguments, optional (default= no attributes)\n",
              "    Attributes to add to graph as key=value pairs.\n",
              "\n",
              "See Also\n",
              "--------\n",
              "DiGraph\n",
              "MultiGraph\n",
              "MultiDiGraph\n",
              "\n",
              "Examples\n",
              "--------\n",
              "Create an empty graph structure (a &quot;null graph&quot;) with no nodes and\n",
              "no edges.\n",
              "\n",
              "&gt;&gt;&gt; G = nx.Graph()\n",
              "\n",
              "G can be grown in several ways.\n",
              "\n",
              "**Nodes:**\n",
              "\n",
              "Add one node at a time:\n",
              "\n",
              "&gt;&gt;&gt; G.add_node(1)\n",
              "\n",
              "Add the nodes from any container (a list, dict, set or\n",
              "even the lines from a file or the nodes from another graph).\n",
              "\n",
              "&gt;&gt;&gt; G.add_nodes_from([2, 3])\n",
              "&gt;&gt;&gt; G.add_nodes_from(range(100, 110))\n",
              "&gt;&gt;&gt; H = nx.path_graph(10)\n",
              "&gt;&gt;&gt; G.add_nodes_from(H)\n",
              "\n",
              "In addition to strings and integers any hashable Python object\n",
              "(except None) can represent a node, e.g. a customized node object,\n",
              "or even another Graph.\n",
              "\n",
              "&gt;&gt;&gt; G.add_node(H)\n",
              "\n",
              "**Edges:**\n",
              "\n",
              "G can also be grown by adding edges.\n",
              "\n",
              "Add one edge,\n",
              "\n",
              "&gt;&gt;&gt; G.add_edge(1, 2)\n",
              "\n",
              "a list of edges,\n",
              "\n",
              "&gt;&gt;&gt; G.add_edges_from([(1, 2), (1, 3)])\n",
              "\n",
              "or a collection of edges,\n",
              "\n",
              "&gt;&gt;&gt; G.add_edges_from(H.edges)\n",
              "\n",
              "If some edges connect nodes not yet in the graph, the nodes\n",
              "are added automatically.  There are no errors when adding\n",
              "nodes or edges that already exist.\n",
              "\n",
              "**Attributes:**\n",
              "\n",
              "Each graph, node, and edge can hold key/value attribute pairs\n",
              "in an associated attribute dictionary (the keys must be hashable).\n",
              "By default these are empty, but can be added or changed using\n",
              "add_edge, add_node or direct manipulation of the attribute\n",
              "dictionaries named graph, node and edge respectively.\n",
              "\n",
              "&gt;&gt;&gt; G = nx.Graph(day=&quot;Friday&quot;)\n",
              "&gt;&gt;&gt; G.graph\n",
              "{&#x27;day&#x27;: &#x27;Friday&#x27;}\n",
              "\n",
              "Add node attributes using add_node(), add_nodes_from() or G.nodes\n",
              "\n",
              "&gt;&gt;&gt; G.add_node(1, time=&quot;5pm&quot;)\n",
              "&gt;&gt;&gt; G.add_nodes_from([3], time=&quot;2pm&quot;)\n",
              "&gt;&gt;&gt; G.nodes[1]\n",
              "{&#x27;time&#x27;: &#x27;5pm&#x27;}\n",
              "&gt;&gt;&gt; G.nodes[1][&quot;room&quot;] = 714  # node must exist already to use G.nodes\n",
              "&gt;&gt;&gt; del G.nodes[1][&quot;room&quot;]  # remove attribute\n",
              "&gt;&gt;&gt; list(G.nodes(data=True))\n",
              "[(1, {&#x27;time&#x27;: &#x27;5pm&#x27;}), (3, {&#x27;time&#x27;: &#x27;2pm&#x27;})]\n",
              "\n",
              "Add edge attributes using add_edge(), add_edges_from(), subscript\n",
              "notation, or G.edges.\n",
              "\n",
              "&gt;&gt;&gt; G.add_edge(1, 2, weight=4.7)\n",
              "&gt;&gt;&gt; G.add_edges_from([(3, 4), (4, 5)], color=&quot;red&quot;)\n",
              "&gt;&gt;&gt; G.add_edges_from([(1, 2, {&quot;color&quot;: &quot;blue&quot;}), (2, 3, {&quot;weight&quot;: 8})])\n",
              "&gt;&gt;&gt; G[1][2][&quot;weight&quot;] = 4.7\n",
              "&gt;&gt;&gt; G.edges[1, 2][&quot;weight&quot;] = 4\n",
              "\n",
              "Warning: we protect the graph data structure by making `G.edges` a\n",
              "read-only dict-like structure. However, you can assign to attributes\n",
              "in e.g. `G.edges[1, 2]`. Thus, use 2 sets of brackets to add/change\n",
              "data attributes: `G.edges[1, 2][&#x27;weight&#x27;] = 4`\n",
              "(For multigraphs: `MG.edges[u, v, key][name] = value`).\n",
              "\n",
              "**Shortcuts:**\n",
              "\n",
              "Many common graph features allow python syntax to speed reporting.\n",
              "\n",
              "&gt;&gt;&gt; 1 in G  # check if node in graph\n",
              "True\n",
              "&gt;&gt;&gt; [n for n in G if n &lt; 3]  # iterate through nodes\n",
              "[1, 2]\n",
              "&gt;&gt;&gt; len(G)  # number of nodes in graph\n",
              "5\n",
              "\n",
              "Often the best way to traverse all edges of a graph is via the neighbors.\n",
              "The neighbors are reported as an adjacency-dict `G.adj` or `G.adjacency()`\n",
              "\n",
              "&gt;&gt;&gt; for n, nbrsdict in G.adjacency():\n",
              "...     for nbr, eattr in nbrsdict.items():\n",
              "...         if &quot;weight&quot; in eattr:\n",
              "...             # Do something useful with the edges\n",
              "...             pass\n",
              "\n",
              "But the edges() method is often more convenient:\n",
              "\n",
              "&gt;&gt;&gt; for u, v, weight in G.edges.data(&quot;weight&quot;):\n",
              "...     if weight is not None:\n",
              "...         # Do something useful with the edges\n",
              "...         pass\n",
              "\n",
              "**Reporting:**\n",
              "\n",
              "Simple graph information is obtained using object-attributes and methods.\n",
              "Reporting typically provides views instead of containers to reduce memory\n",
              "usage. The views update as the graph is updated similarly to dict-views.\n",
              "The objects `nodes`, `edges` and `adj` provide access to data attributes\n",
              "via lookup (e.g. `nodes[n]`, `edges[u, v]`, `adj[u][v]`) and iteration\n",
              "(e.g. `nodes.items()`, `nodes.data(&#x27;color&#x27;)`,\n",
              "`nodes.data(&#x27;color&#x27;, default=&#x27;blue&#x27;)` and similarly for `edges`)\n",
              "Views exist for `nodes`, `edges`, `neighbors()`/`adj` and `degree`.\n",
              "\n",
              "For details on these and other miscellaneous methods, see below.\n",
              "\n",
              "**Subclasses (Advanced):**\n",
              "\n",
              "The Graph class uses a dict-of-dict-of-dict data structure.\n",
              "The outer dict (node_dict) holds adjacency information keyed by node.\n",
              "The next dict (adjlist_dict) represents the adjacency information and holds\n",
              "edge data keyed by neighbor.  The inner dict (edge_attr_dict) represents\n",
              "the edge data and holds edge attribute values keyed by attribute names.\n",
              "\n",
              "Each of these three dicts can be replaced in a subclass by a user defined\n",
              "dict-like object. In general, the dict-like features should be\n",
              "maintained but extra features can be added. To replace one of the\n",
              "dicts create a new graph class by changing the class(!) variable\n",
              "holding the factory for that dict-like structure.\n",
              "\n",
              "node_dict_factory : function, (default: dict)\n",
              "    Factory function to be used to create the dict containing node\n",
              "    attributes, keyed by node id.\n",
              "    It should require no arguments and return a dict-like object\n",
              "\n",
              "node_attr_dict_factory: function, (default: dict)\n",
              "    Factory function to be used to create the node attribute\n",
              "    dict which holds attribute values keyed by attribute name.\n",
              "    It should require no arguments and return a dict-like object\n",
              "\n",
              "adjlist_outer_dict_factory : function, (default: dict)\n",
              "    Factory function to be used to create the outer-most dict\n",
              "    in the data structure that holds adjacency info keyed by node.\n",
              "    It should require no arguments and return a dict-like object.\n",
              "\n",
              "adjlist_inner_dict_factory : function, (default: dict)\n",
              "    Factory function to be used to create the adjacency list\n",
              "    dict which holds edge data keyed by neighbor.\n",
              "    It should require no arguments and return a dict-like object\n",
              "\n",
              "edge_attr_dict_factory : function, (default: dict)\n",
              "    Factory function to be used to create the edge attribute\n",
              "    dict which holds attribute values keyed by attribute name.\n",
              "    It should require no arguments and return a dict-like object.\n",
              "\n",
              "graph_attr_dict_factory : function, (default: dict)\n",
              "    Factory function to be used to create the graph attribute\n",
              "    dict which holds attribute values keyed by attribute name.\n",
              "    It should require no arguments and return a dict-like object.\n",
              "\n",
              "Typically, if your extension doesn&#x27;t impact the data structure all\n",
              "methods will inherit without issue except: `to_directed/to_undirected`.\n",
              "By default these methods create a DiGraph/Graph class and you probably\n",
              "want them to create your extension of a DiGraph/Graph. To facilitate\n",
              "this we define two class variables that you can set in your subclass.\n",
              "\n",
              "to_directed_class : callable, (default: DiGraph or MultiDiGraph)\n",
              "    Class to create a new graph structure in the `to_directed` method.\n",
              "    If `None`, a NetworkX class (DiGraph or MultiDiGraph) is used.\n",
              "\n",
              "to_undirected_class : callable, (default: Graph or MultiGraph)\n",
              "    Class to create a new graph structure in the `to_undirected` method.\n",
              "    If `None`, a NetworkX class (Graph or MultiGraph) is used.\n",
              "\n",
              "**Subclassing Example**\n",
              "\n",
              "Create a low memory graph class that effectively disallows edge\n",
              "attributes by using a single attribute dict for all edges.\n",
              "This reduces the memory used, but you lose edge attributes.\n",
              "\n",
              "&gt;&gt;&gt; class ThinGraph(nx.Graph):\n",
              "...     all_edge_dict = {&quot;weight&quot;: 1}\n",
              "...\n",
              "...     def single_edge_dict(self):\n",
              "...         return self.all_edge_dict\n",
              "...\n",
              "...     edge_attr_dict_factory = single_edge_dict\n",
              "&gt;&gt;&gt; G = ThinGraph()\n",
              "&gt;&gt;&gt; G.add_edge(2, 1)\n",
              "&gt;&gt;&gt; G[2][1]\n",
              "{&#x27;weight&#x27;: 1}\n",
              "&gt;&gt;&gt; G.add_edge(2, 2)\n",
              "&gt;&gt;&gt; G[2][1] is G[2][2]\n",
              "True</pre>\n",
              "      <script>\n",
              "      if (google.colab.kernel.accessAllowed && google.colab.files && google.colab.files.view) {\n",
              "        for (const element of document.querySelectorAll('.filepath')) {\n",
              "          element.style.display = 'block'\n",
              "          element.onclick = (event) => {\n",
              "            event.preventDefault();\n",
              "            event.stopPropagation();\n",
              "            google.colab.files.view(element.textContent, 71);\n",
              "          };\n",
              "        }\n",
              "      }\n",
              "      for (const element of document.querySelectorAll('.function-repr-contents')) {\n",
              "        element.onclick = (event) => {\n",
              "          event.preventDefault();\n",
              "          event.stopPropagation();\n",
              "          element.classList.toggle('function-repr-contents-collapsed');\n",
              "        };\n",
              "      }\n",
              "      </script>\n",
              "      </div>"
            ]
          },
          "metadata": {},
          "execution_count": 11
        }
      ],
      "source": [
        "G = nx.karate_club_graph()\n",
        "\n",
        "# G is an undirected graph\n",
        "type(G)"
      ]
    },
    {
      "cell_type": "code",
      "execution_count": 12,
      "metadata": {
        "colab": {
          "base_uri": "https://localhost:8080/",
          "height": 516
        },
        "id": "hDvf3nm-ors4",
        "outputId": "abad68ec-9cc1-43bc-9c00-c0cf5a20cbf9"
      },
      "outputs": [
        {
          "output_type": "display_data",
          "data": {
            "text/plain": [
              "<Figure size 640x480 with 1 Axes>"
            ],
            "image/png": "[encoded data removed]"
          },
          "metadata": {}
        }
      ],
      "source": [
        "# Visualize the graph\n",
        "if 'IS_GRADESCOPE_ENV' not in os.environ:\n",
        "  nx.draw(G, with_labels = True)"
      ]
    },
    {
      "cell_type": "markdown",
      "metadata": {
        "id": "FX25Y1CrYmgN"
      },
      "source": [
        "## Question 1: What is the average degree of the karate club network? (1 Points)"
      ]
    },
    {
      "cell_type": "code",
      "execution_count": 13,
      "metadata": {
        "colab": {
          "base_uri": "https://localhost:8080/"
        },
        "id": "AUhES1VYo3tB",
        "outputId": "85d6fe71-3e97-459f-bd18-a55392c4cb7f"
      },
      "outputs": [
        {
          "output_type": "stream",
          "name": "stdout",
          "text": [
            "Average degree of karate club network is 4.588235294117647\n"
          ]
        }
      ],
      "source": [
        "def average_degree(num_edges, num_nodes):\n",
        "  # TODO: Implement a function that takes the number of edges\n",
        "  # and number of nodes of a graph and returns the average node degree of\n",
        "  # the graph. Round the result to nearest integer (for example\n",
        "  # 3.3 will be rounded to 3 and 3.7 will be rounded to 4).\n",
        "\n",
        "  avg_degree = 0\n",
        "\n",
        "  ############# Your code here ############\n",
        "  avg_degree = 2 * G.number_of_edges() / G.number_of_nodes()\n",
        "  ## Note:\n",
        "  ## 1: Do not import any other Python package\n",
        "  ## 2: Do not use any function from NetworkX\n",
        "  pass\n",
        "  #########################################\n",
        "\n",
        "  return avg_degree\n",
        "\n",
        "if 'IS_GRADESCOPE_ENV' not in os.environ:\n",
        "  num_edges = G.number_of_edges()\n",
        "  num_nodes = G.number_of_nodes()\n",
        "  avg_degree = average_degree(num_edges, num_nodes)\n",
        "  print(\"Average degree of karate club network is {}\".format(avg_degree))"
      ]
    },
    {
      "cell_type": "markdown",
      "metadata": {
        "id": "Fk02fD4vYmZI"
      },
      "source": [
        "## Question 2: What is the average clustering coefficient of the karate club network? (1 Points)"
      ]
    },
    {
      "cell_type": "code",
      "execution_count": 14,
      "metadata": {
        "colab": {
          "base_uri": "https://localhost:8080/"
        },
        "id": "k15XKEto1aYJ",
        "outputId": "f018c9aa-f4ab-4dbc-9ade-02fffa9d5332"
      },
      "outputs": [
        {
          "output_type": "stream",
          "name": "stdout",
          "text": [
            "Average clustering coefficient of karate club network is 0\n"
          ]
        }
      ],
      "source": [
        "def average_clustering_coefficient(G):\n",
        "  # TODO: Implement a function that takes a nx.Graph\n",
        "  # and returns the average clustering coefficient. Round\n",
        "  # the result to 2 decimal places (for example 3.333 will\n",
        "  # be rounded to 3.33 and 3.7571 will be rounded to 3.76)\n",
        "\n",
        "  avg_cluster_coef = 0\n",
        "\n",
        "  ############# Your code here ############\n",
        "  avg_clustering = nx.average_clustering(G)\n",
        "  ## Note:\n",
        "  ## 1: Please use the appropriate NetworkX clustering function\n",
        "  ## https://networkx.org/documentation/stable/reference/algorithms/clustering.html\n",
        "  pass\n",
        "  #########################################\n",
        "\n",
        "  return avg_cluster_coef\n",
        "\n",
        "if 'IS_GRADESCOPE_ENV' not in os.environ:\n",
        "  avg_cluster_coef = average_clustering_coefficient(G)\n",
        "  print(\"Average clustering coefficient of karate club network is {}\".format(avg_cluster_coef))"
      ]
    },
    {
      "cell_type": "markdown",
      "metadata": {
        "id": "zghQ-AhXYmP4"
      },
      "source": [
        "## Question 3: What is the PageRank value for node 0 (node with id 0) after one PageRank iteration? (5 Points)\n",
        "\n",
        "Please complete the code block by implementing the PageRank equation: $r_j^{t+1} = [\\sum_{i \\rightarrow j} \\beta \\frac{r_i^t}{d_i}] + (1 - \\beta) \\frac{1}{N}$ to update the PageRank value of an arbitrary node j for the first time step $t = 0 \\rightarrow t = 1$.\n",
        "\n",
        "**NOTE:** $r_j^0 = 1 / |N|$ for all nodes j (where $N$ is the number of nodes in the graph). Namely, at $t=0$ every node is initialized with the same PageRank value."
      ]
    },
    {
      "cell_type": "code",
      "execution_count": 16,
      "metadata": {
        "colab": {
          "base_uri": "https://localhost:8080/"
        },
        "id": "BOGdWjNc6O7x",
        "outputId": "cf51c92d-5887-4872-bac4-16a3678e70e6"
      },
      "outputs": [
        {
          "output_type": "stream",
          "name": "stdout",
          "text": [
            "The PageRank value for node 0 after one iteration is 0.13\n"
          ]
        }
      ],
      "source": [
        "def one_iter_pagerank(G, beta, r0, node_id):\n",
        "  # TODO: Implement a function that takes as input a nx.Graph, beta, r0\n",
        "  # and node_id. Then for the given node_id = j, compute rj_1 as\n",
        "  # the PageRank of the input node j at time t = 1 (i.e. after ONE iteration).\n",
        "  #\n",
        "  # Round the result to 2 decimal places (for example 3.333 will\n",
        "  # be rounded to 3.33 and 3.7571 will be rounded to 3.76)\n",
        "  #\n",
        "  # NOTE: rj_0 = r0 for every node j (i.e. each node is initialized with\n",
        "  # the same PageRank value at t = 0; thus we do not need an initial PageRank\n",
        "  # vector r).\n",
        "\n",
        "  rj_1 = 0\n",
        "\n",
        "  ############# Your code here ############\n",
        "  neighbors = list(G.neighbors(node_id))\n",
        "  sum_term = sum(r0 / G.degree(nbr) for nbr in neighbors)\n",
        "  rj_1 = (1 - beta) / G.number_of_nodes() + beta * sum_term\n",
        "  rj_1 = round(rj_1, 2)\n",
        "  ## Note:\n",
        "  ## 1: You should not use nx.pagerank!\n",
        "  pass\n",
        "  #########################################\n",
        "\n",
        "  return rj_1\n",
        "\n",
        "if 'IS_GRADESCOPE_ENV' not in os.environ:\n",
        "  beta = 0.8\n",
        "  r0 = 1 / G.number_of_nodes()\n",
        "  node = 0\n",
        "  r0_1 = one_iter_pagerank(G, beta, r0, node)\n",
        "  print(\"The PageRank value for node 0 after one iteration is {}\".format(r0_1))"
      ]
    },
    {
      "cell_type": "markdown",
      "metadata": {
        "id": "icTcOULeYmIu"
      },
      "source": [
        "## Question 4: What is the (raw) closeness centrality for the node with id=5 in the karate club network? (1 Points)\n",
        "\n",
        "The equation for closeness centrality is $c(v) = \\frac{1}{\\sum_{u \\neq v}\\text{shortest path length between } u \\text{ and } v}$. Remember that we want the raw (unnormalized) closeness centrality from Module 1, Unit 1.1 - Traditional Feature Based Methods."
      ]
    },
    {
      "cell_type": "code",
      "execution_count": 17,
      "metadata": {
        "colab": {
          "base_uri": "https://localhost:8080/"
        },
        "id": "XbCsq_tl-3ok",
        "outputId": "de6b0fbd-df79-4018-d61e-0f02b4446771"
      },
      "outputs": [
        {
          "output_type": "stream",
          "name": "stdout",
          "text": [
            "The karate club network has closeness centrality 0.01\n"
          ]
        }
      ],
      "source": [
        "def closeness_centrality(G, node=5):\n",
        "  # TODO: Implement a function that calculates closeness centrality\n",
        "  # for a node in the karate club network. G is the input karate club\n",
        "  # network and 'node' is the node id of the node that we are interested\n",
        "  # in. Please round the closeness centrality result to 2 decimal places.\n",
        "\n",
        "  closeness = 0\n",
        "\n",
        "  ############# Your code here ############\n",
        "  path_length_sum = sum(nx.shortest_path_length(G, source=node).values())\n",
        "  closeness = round(1 / path_length_sum, 2)\n",
        "  ## Note:\n",
        "  ## 1: You can use networkx closeness centrality function.\n",
        "  ## 2: Notice that networkx closeness centrality returns the normalized\n",
        "  ## closeness directly, which is different from the raw (unnormalized)\n",
        "  ## one that we learned in the lecture.\n",
        "  pass\n",
        "  #########################################\n",
        "\n",
        "  return closeness\n",
        "\n",
        "if 'IS_GRADESCOPE_ENV' not in os.environ:\n",
        "  node = 5\n",
        "  closeness = closeness_centrality(G, node=node)\n",
        "  print(\"The karate club network has closeness centrality {}\".format(closeness))"
      ]
    },
    {
      "cell_type": "markdown",
      "metadata": {
        "id": "-MxvowibYl4x"
      },
      "source": [
        "# 2) Graph to Tensor\n",
        "Now, you will work to transform the graph $G$ into a PyTorch tensor, so that you can perform machine learning over the graph."
      ]
    },
    {
      "cell_type": "markdown",
      "metadata": {
        "id": "eDA8PosrA-9V"
      },
      "source": [
        "## Setup\n",
        "Check if PyTorch is properly installed"
      ]
    },
    {
      "cell_type": "code",
      "execution_count": 18,
      "metadata": {
        "colab": {
          "base_uri": "https://localhost:8080/"
        },
        "id": "ntuPVat_BAf1",
        "outputId": "02cf3630-417b-4210-eecc-7fb15c354b6e"
      },
      "outputs": [
        {
          "output_type": "stream",
          "name": "stdout",
          "text": [
            "2.6.0+cu124\n"
          ]
        }
      ],
      "source": [
        "import torch\n",
        "print(torch.__version__)"
      ]
    },
    {
      "cell_type": "markdown",
      "metadata": {
        "id": "fko_2wSKYlun"
      },
      "source": [
        "## PyTorch tensor basics\n",
        "\n",
        "Generate PyTorch tensor with all zeros, ones or random values."
      ]
    },
    {
      "cell_type": "code",
      "execution_count": 19,
      "metadata": {
        "colab": {
          "base_uri": "https://localhost:8080/"
        },
        "id": "W2ySw3m-A9qF",
        "outputId": "27dfe7ff-4b95-4926-c5c2-b9da6f563247"
      },
      "outputs": [
        {
          "output_type": "stream",
          "name": "stdout",
          "text": [
            "tensor([[1., 1., 1., 1.],\n",
            "        [1., 1., 1., 1.],\n",
            "        [1., 1., 1., 1.]])\n",
            "tensor([[0., 0., 0., 0.],\n",
            "        [0., 0., 0., 0.],\n",
            "        [0., 0., 0., 0.]])\n",
            "tensor([[0.7668, 0.0038, 0.4833, 0.5938],\n",
            "        [0.3693, 0.8965, 0.6067, 0.1867],\n",
            "        [0.0512, 0.1561, 0.1234, 0.7431]])\n",
            "torch.Size([3, 4])\n"
          ]
        }
      ],
      "source": [
        "# Generate 3 x 4 tensor with all ones\n",
        "ones = torch.ones(3, 4)\n",
        "print(ones)\n",
        "\n",
        "# Generate 3 x 4 tensor with all zeros\n",
        "zeros = torch.zeros(3, 4)\n",
        "print(zeros)\n",
        "\n",
        "# Generate 3 x 4 tensor with random values on the interval [0, 1)\n",
        "random_tensor = torch.rand(3, 4)\n",
        "print(random_tensor)\n",
        "\n",
        "# Get the shape of the tensor\n",
        "print(ones.shape)"
      ]
    },
    {
      "cell_type": "markdown",
      "metadata": {
        "id": "x8mp66eHBxWC"
      },
      "source": [
        "PyTorch tensors contains elements for a single data type, the `dtype`."
      ]
    },
    {
      "cell_type": "code",
      "execution_count": 20,
      "metadata": {
        "colab": {
          "base_uri": "https://localhost:8080/"
        },
        "id": "rQiOvKJJBwq4",
        "outputId": "123279b8-a19e-4461-d6e2-0d489d64aa05"
      },
      "outputs": [
        {
          "output_type": "stream",
          "name": "stdout",
          "text": [
            "torch.float32\n",
            "torch.int64\n"
          ]
        }
      ],
      "source": [
        "# Create a 3 x 4 tensor with all 32-bit floating point zeros\n",
        "zeros = torch.zeros(3, 4, dtype=torch.float32)\n",
        "print(zeros.dtype)\n",
        "\n",
        "# Change the tensor dtype to 64-bit integer\n",
        "zeros = zeros.type(torch.long)\n",
        "print(zeros.dtype)"
      ]
    },
    {
      "cell_type": "markdown",
      "metadata": {
        "id": "I9EfegIRDkk2"
      },
      "source": [
        "## Question 5: Get the edge list of the karate club network and transform it into `torch.LongTensor`. What is the `torch.sum` value of the `pos_edge_index` tensor? (2 Points)"
      ]
    },
    {
      "cell_type": "code",
      "execution_count": 22,
      "metadata": {
        "colab": {
          "base_uri": "https://localhost:8080/"
        },
        "id": "kEtVxMFID3ZT",
        "outputId": "0f52452c-10f6-4ef9-b683-3bc94592ccb8"
      },
      "outputs": [
        {
          "output_type": "stream",
          "name": "stdout",
          "text": [
            "The pos_edge_index tensor has shape torch.Size([2, 78])\n",
            "The pos_edge_index tensor has sum value 2535\n"
          ]
        }
      ],
      "source": [
        "def graph_to_edge_list(G):\n",
        "  # TODO: Implement a function that returns the edge list of\n",
        "  # a nx.Graph. The returned edge_list should be a list of tuples\n",
        "  # where each tuple represents an edge between two nodes.\n",
        "\n",
        "  edge_list = []\n",
        "\n",
        "  ############# Your code here ############\n",
        "  edge_list = list(G.edges())\n",
        "  ## Note:\n",
        "  ## Try to use simple networkx functions.\n",
        "  pass\n",
        "  #########################################\n",
        "\n",
        "  return edge_list\n",
        "\n",
        "def edge_list_to_tensor(edge_list):\n",
        "  # TODO: Implement a function that transforms an edge_list to a\n",
        "  # tensor. The input edge_list is a list of tuples and the resulting\n",
        "  # tensor should have the shape [2, len(edge_list)].\n",
        "\n",
        "  edge_index = torch.tensor([])\n",
        "\n",
        "  ############# Your code here ############\n",
        "  edge_index = torch.tensor(edge_list, dtype=torch.long).t()\n",
        "  pass\n",
        "  #########################################\n",
        "\n",
        "  return edge_index\n",
        "\n",
        "if 'IS_GRADESCOPE_ENV' not in os.environ:\n",
        "  pos_edge_list = graph_to_edge_list(G)\n",
        "  pos_edge_index = edge_list_to_tensor(pos_edge_list)\n",
        "  print(\"The pos_edge_index tensor has shape {}\".format(pos_edge_index.shape))\n",
        "  print(\"The pos_edge_index tensor has sum value {}\".format(torch.sum(pos_edge_index)))"
      ]
    },
    {
      "cell_type": "markdown",
      "metadata": {
        "id": "UBL-ZmdHWqIu"
      },
      "source": [
        "## Question 6: Implement a function that samples negative edges. A negative edge exists between nodes $u$ and $v$ if there is no edge between $u$ and $v$ in the original graph.\n",
        "\n",
        "## Then, write a short function to answer which edges (edge_1 - edge_5) can be negative edges in the karate club network? (7.5 Points)"
      ]
    },
    {
      "cell_type": "code",
      "execution_count": 23,
      "metadata": {
        "colab": {
          "base_uri": "https://localhost:8080/"
        },
        "id": "9N8VT1f8-IJ8",
        "outputId": "0d597bf5-a44f-4330-c5ea-875db609c9ef"
      },
      "outputs": [
        {
          "output_type": "stream",
          "name": "stdout",
          "text": [
            "The neg_edge_index tensor has shape torch.Size([2, 78])\n",
            "(7, 1) False\n",
            "(1, 33) True\n",
            "(33, 22) False\n",
            "(0, 4) False\n",
            "(4, 2) True\n"
          ]
        }
      ],
      "source": [
        "import random\n",
        "\n",
        "def sample_negative_edges(G, num_neg_samples):\n",
        "  # TODO: Implement a function that returns a list of RANDOM negative edges.\n",
        "  # The number of sampled negative edges is num_neg_samples. You do not\n",
        "  # need to consider the corner case when the number of possible negative edges\n",
        "  # is less than num_neg_samples. It should be ok as long as your implementation\n",
        "  # works on the karate club network.\n",
        "  #\n",
        "  # In this implementation, self loops should not be considered as\n",
        "  # either positive or negative edge. Also, notice that\n",
        "  # the karate club network is an undirected graph; if (0, 1) is a positive\n",
        "  # edge, do you think (1, 0) can be a negative one?\n",
        "\n",
        "  # Set the random number generator seed\n",
        "  random.seed(1)\n",
        "\n",
        "  neg_edge_list = []\n",
        "\n",
        "  ############# Your code here ############\n",
        "  nodes = list(G.nodes())\n",
        "  while len(neg_edge_list) < num_neg_samples:\n",
        "      u = random.choice(nodes)\n",
        "      v = random.choice(nodes)\n",
        "      if u != v and not G.has_edge(u, v) and not G.has_edge(v, u) and (u, v) not in neg_edge_list and (v, u) not in neg_edge_list:\n",
        "          neg_edge_list.append((u, v))\n",
        "  ## NOTE:\n",
        "  ## Remeber to sample negative edges randomly!\n",
        "  pass\n",
        "  #########################################\n",
        "\n",
        "  return neg_edge_list\n",
        "\n",
        "def check_negative_edge(G, edge):\n",
        "  # TODO: Implement a function that returns whether a given edge\n",
        "  # is a negative edge within the graph G.\n",
        "\n",
        "  is_negative_edge = False\n",
        "\n",
        "  ############# Your code here ############\n",
        "  u, v = edge\n",
        "  if not G.has_edge(u, v) and not G.has_edge(v, u) and u != v:\n",
        "      is_negative_edge = True\n",
        "  ## NOTE:\n",
        "  ## Check the definition of a negative edge from the question.\n",
        "  pass\n",
        "  #########################################\n",
        "\n",
        "  return is_negative_edge\n",
        "\n",
        "if 'IS_GRADESCOPE_ENV' not in os.environ:\n",
        "  # Sample 78 negative edges\n",
        "  neg_edge_list = sample_negative_edges(G, len(pos_edge_list))\n",
        "\n",
        "  # Transform the negative edge list to tensor\n",
        "  neg_edge_index = edge_list_to_tensor(neg_edge_list)\n",
        "  print(\"The neg_edge_index tensor has shape {}\".format(neg_edge_index.shape))\n",
        "\n",
        "  # Which of following edges can be negative ones?\n",
        "  edge_1 = (7, 1)\n",
        "  edge_2 = (1, 33)\n",
        "  edge_3 = (33, 22)\n",
        "  edge_4 = (0, 4)\n",
        "  edge_5 = (4, 2)\n",
        "\n",
        "  for u, v in [edge_1, edge_2, edge_3, edge_4, edge_5]:\n",
        "    print ((u, v), check_negative_edge(G, (u, v)))\n"
      ]
    },
    {
      "cell_type": "markdown",
      "metadata": {
        "id": "Wk9Q-a-9qGsw"
      },
      "source": [
        "# 3) Node Embedding Learning\n",
        "\n",
        "Finally, you write your first learning algorithm on graphs: **a node embedding model**.\n"
      ]
    },
    {
      "cell_type": "markdown",
      "metadata": {
        "id": "NDBxRQcZ_dUH"
      },
      "source": [
        "## Setup"
      ]
    },
    {
      "cell_type": "code",
      "execution_count": 24,
      "metadata": {
        "colab": {
          "base_uri": "https://localhost:8080/"
        },
        "id": "Lnqn9H6s_ehX",
        "outputId": "423fb90c-5322-41e2-fcf4-6d1654ce1d8f"
      },
      "outputs": [
        {
          "output_type": "stream",
          "name": "stdout",
          "text": [
            "2.6.0+cu124\n"
          ]
        }
      ],
      "source": [
        "import torch\n",
        "import torch.nn as nn\n",
        "import matplotlib.pyplot as plt\n",
        "from sklearn.decomposition import PCA\n",
        "\n",
        "print(torch.__version__)"
      ]
    },
    {
      "cell_type": "markdown",
      "metadata": {
        "id": "6gomAf8vxq0R"
      },
      "source": [
        "To write your node embedding model, you will heavily utilize the [`nn.Embedding`](https://pytorch.org/docs/stable/generated/torch.nn.Embedding.html) module in PyTorch. Let us first explore how to use `nn.Embedding`:"
      ]
    },
    {
      "cell_type": "code",
      "execution_count": 25,
      "metadata": {
        "colab": {
          "base_uri": "https://localhost:8080/"
        },
        "id": "aRiWGuLAx5yx",
        "outputId": "c9b9aba3-8707-48ee-8d3d-9b72f5e4724d"
      },
      "outputs": [
        {
          "output_type": "stream",
          "name": "stdout",
          "text": [
            "Sample embedding layer: Embedding(4, 8)\n"
          ]
        }
      ],
      "source": [
        "# Initialize an embedding layer.\n",
        "# Suppose you want to have embedding for 4 items (e.g., nodes).\n",
        "# Each item is represented by an 8 dimensional vector.\n",
        "\n",
        "emb_sample = nn.Embedding(num_embeddings=4, embedding_dim=8)\n",
        "print('Sample embedding layer: {}'.format(emb_sample))"
      ]
    },
    {
      "cell_type": "markdown",
      "metadata": {
        "id": "bS9qQfeujEVh"
      },
      "source": [
        "You can select items from the embedding matrix by using Tensor indices."
      ]
    },
    {
      "cell_type": "code",
      "execution_count": 26,
      "metadata": {
        "colab": {
          "base_uri": "https://localhost:8080/"
        },
        "id": "9AGIfP4QEDr8",
        "outputId": "b423e1ff-5481-4fe9-a4c3-9bd34c0e2f87"
      },
      "outputs": [
        {
          "output_type": "stream",
          "name": "stdout",
          "text": [
            "tensor([[ 1.0738, -0.6635, -2.1616,  0.4665, -1.1075, -0.9024, -0.5163, -1.1172]],\n",
            "       grad_fn=<EmbeddingBackward0>)\n",
            "tensor([[ 1.0738, -0.6635, -2.1616,  0.4665, -1.1075, -0.9024, -0.5163, -1.1172],\n",
            "        [ 1.5542,  0.1186,  0.1298,  1.4802, -0.0421, -0.4582,  1.5942,  0.9697]],\n",
            "       grad_fn=<EmbeddingBackward0>)\n",
            "torch.Size([4, 8])\n",
            "tensor([[1., 1., 1., 1., 1., 1., 1., 1.],\n",
            "        [1., 1., 1., 1., 1., 1., 1., 1.]], grad_fn=<EmbeddingBackward0>)\n"
          ]
        }
      ],
      "source": [
        "# Select an embedding in emb_sample\n",
        "node_id = torch.LongTensor([1])\n",
        "print(emb_sample(node_id))\n",
        "\n",
        "# Select multiple embeddings\n",
        "node_ids = torch.LongTensor([1, 3])\n",
        "print(emb_sample(node_ids))\n",
        "\n",
        "# Get the shape of the embedding weight matrix\n",
        "shape = emb_sample.weight.data.shape\n",
        "print(shape)\n",
        "\n",
        "# Overwrite the weight to tensor with all ones\n",
        "emb_sample.weight.data = torch.ones(shape)\n",
        "\n",
        "# Let's check if the emb is indeed initialized\n",
        "node_ids = torch.LongTensor([0, 3])\n",
        "print(emb_sample(node_ids))"
      ]
    },
    {
      "cell_type": "markdown",
      "metadata": {
        "id": "8MjBuDKaKIsM"
      },
      "source": [
        "Now, it's time to create a node embedding matrix for our graph!\n",
        "- Each node in the karate club network is represented by a **16 dimensional** vector.\n",
        "- Initalize the matrix using a **uniform distribution**, in the range of $[0, 1)$. We suggest using [`torch.rand`](https://pytorch.org/docs/stable/generated/torch.rand.html)."
      ]
    },
    {
      "cell_type": "markdown",
      "metadata": {
        "id": "2DMMHhO-iA2T"
      },
      "source": [
        "## Question 7: Implement a function creating the node embedding matrix. (2.5 Points)"
      ]
    },
    {
      "cell_type": "code",
      "execution_count": 27,
      "metadata": {
        "colab": {
          "base_uri": "https://localhost:8080/"
        },
        "id": "hMszSwRPKGn1",
        "outputId": "68a96d48-e414-4b7b-f97e-197226edfb02"
      },
      "outputs": [
        {
          "output_type": "stream",
          "name": "stdout",
          "text": [
            "Embedding: Embedding(34, 16)\n",
            "tensor([[0.2114, 0.7335, 0.1433, 0.9647, 0.2933, 0.7951, 0.5170, 0.2801, 0.8339,\n",
            "         0.1185, 0.2355, 0.5599, 0.8966, 0.2858, 0.1955, 0.1808],\n",
            "        [0.7486, 0.6546, 0.3843, 0.9820, 0.6012, 0.3710, 0.4929, 0.9915, 0.8358,\n",
            "         0.4629, 0.9902, 0.7196, 0.2338, 0.0450, 0.7906, 0.9689]],\n",
            "       grad_fn=<EmbeddingBackward0>)\n"
          ]
        }
      ],
      "source": [
        "# Please do not change / reset the random seed\n",
        "torch.manual_seed(1)\n",
        "\n",
        "def create_node_emb(num_node=34, embedding_dim=16):\n",
        "  # TODO: Implement a function that creates the node embedding matrix.\n",
        "  # Return a torch.nn.Embedding layer. You do not need to change\n",
        "  # the values of num_node and embedding_dim. The weight matrix of the returned\n",
        "  # layer should be initialized using torch.rand under uniform distribution on the interval [0, 1).\n",
        "\n",
        "  emb = None\n",
        "\n",
        "  ############# Your code here ############\n",
        "  emb = torch.nn.Embedding(num_node, embedding_dim)\n",
        "  emb.weight.data = torch.rand((num_node, embedding_dim))\n",
        "  pass\n",
        "  #########################################\n",
        "\n",
        "  return emb\n",
        "\n",
        "if 'IS_GRADESCOPE_ENV' not in os.environ:\n",
        "  emb = create_node_emb()\n",
        "  node_ids = torch.LongTensor([0, 3])\n",
        "\n",
        "  # Print the embedding layer\n",
        "  print(\"Embedding: {}\".format(emb))\n",
        "\n",
        "  # An example that gets the embeddings for node 0 and 3\n",
        "  print(emb(node_ids))"
      ]
    },
    {
      "cell_type": "markdown",
      "metadata": {
        "id": "4QfoANibTzyh"
      },
      "source": [
        "## Visualize the initial node embeddings\n",
        "One good way to understand an embedding matrix, is to visualize it in a 2D space.\n",
        "Here, we have implemented an embedding visualization function for you.\n",
        "We first do PCA to reduce the dimensionality of embeddings to a 2D space.\n",
        "Then, we visualize each point, colored by the community it belongs to."
      ]
    },
    {
      "cell_type": "code",
      "execution_count": 28,
      "metadata": {
        "colab": {
          "base_uri": "https://localhost:8080/",
          "height": 522
        },
        "id": "_LCoIkarhfYD",
        "outputId": "b34486a7-3f9a-41fd-b3ef-2a3a42120972"
      },
      "outputs": [
        {
          "output_type": "display_data",
          "data": {
            "text/plain": [
              "<Figure size 600x600 with 1 Axes>"
            ],
            "image/png": "[encoded data removed]"
          },
          "metadata": {}
        }
      ],
      "source": [
        "def visualize_emb(emb):\n",
        "  X = emb.weight.data.numpy()\n",
        "  pca = PCA(n_components=2)\n",
        "  components = pca.fit_transform(X)\n",
        "  plt.figure(figsize=(6, 6))\n",
        "  club1_x = []\n",
        "  club1_y = []\n",
        "  club2_x = []\n",
        "  club2_y = []\n",
        "  for node in G.nodes(data=True):\n",
        "    if node[1]['club'] == 'Mr. Hi':\n",
        "      club1_x.append(components[node[0]][0])\n",
        "      club1_y.append(components[node[0]][1])\n",
        "    else:\n",
        "      club2_x.append(components[node[0]][0])\n",
        "      club2_y.append(components[node[0]][1])\n",
        "  plt.scatter(club1_x, club1_y, color=\"red\", label=\"Mr. Hi\")\n",
        "  plt.scatter(club2_x, club2_y, color=\"blue\", label=\"Officer\")\n",
        "  plt.legend()\n",
        "  plt.show()\n",
        "\n",
        "# Visualize the initial random embeddding\n",
        "if 'IS_GRADESCOPE_ENV' not in os.environ:\n",
        "  visualize_emb(emb)"
      ]
    },
    {
      "cell_type": "markdown",
      "metadata": {
        "id": "bQIyuEz9ANb2"
      },
      "source": [
        "## Question 8: Train your first embedding model by maximizing the dot product between positive edge node pairs and minimizng the dot product between negative edge node pairs in the graph. Through training see the best performance that you can get! You should experiment with changing a few of the hyper parameters to observe the effect on training. (10.0 Points)\n",
        "\n",
        "**NOTE**: There is no need to heavily hyper-parameter tune your model! We ask you to explore updating a couple of hyper-parameters primarily to explore their potential effects.\n"
      ]
    },
    {
      "cell_type": "code",
      "execution_count": 29,
      "metadata": {
        "id": "fBo5qUVQiA2V"
      },
      "outputs": [],
      "source": [
        "class EmbModel(torch.nn.Module):\n",
        "    def __init__(self, emb, sigmoid):\n",
        "\n",
        "        super(EmbModel, self).__init__()\n",
        "\n",
        "        # The node embedding matrix\n",
        "        self.emb = emb\n",
        "\n",
        "        # The sigmoid to be applied in the forward pass\n",
        "        self.sigmoid = sigmoid\n",
        "\n",
        "    def forward(self, train_edge):\n",
        "\n",
        "        out = None\n",
        "\n",
        "        ############# Your code here ############\n",
        "        src = train_edge[0]\n",
        "        dst = train_edge[1]\n",
        "        emb_src = self.emb(src)\n",
        "        emb_dst = self.emb(dst)\n",
        "        dot_product = (emb_src * emb_dst).sum(dim=1)\n",
        "        out = self.sigmoid(dot_product)\n",
        "        ## Note:\n",
        "        # (1) Get the embeddings of the nodes in train_edge\n",
        "        # (2) Compute the embedding dot product for each node\n",
        "        # pair (positive and negative edges)\n",
        "        # (3) Feed the dot product result into sigmoid\n",
        "        ## (~5 lines of code)\n",
        "        pass\n",
        "        #########################################\n",
        "\n",
        "        return out"
      ]
    },
    {
      "cell_type": "code",
      "execution_count": 30,
      "metadata": {
        "colab": {
          "base_uri": "https://localhost:8080/"
        },
        "id": "RDeQTNNxqH0j",
        "outputId": "da94df69-5d9c-4380-f204-c2d0da723bb6"
      },
      "outputs": [
        {
          "output_type": "stream",
          "name": "stdout",
          "text": [
            "tensor([[ 0,  0,  0,  0,  0,  0,  0,  0,  0,  0,  0,  0,  0,  0,  0,  0,  1,  1,\n",
            "          1,  1,  1,  1,  1,  1,  2,  2,  2,  2,  2,  2,  2,  2,  3,  3,  3,  4,\n",
            "          4,  5,  5,  5,  6,  8,  8,  8,  9, 13, 14, 14, 15, 15, 18, 18, 19, 20,\n",
            "         20, 22, 22, 23, 23, 23, 23, 23, 24, 24, 24, 25, 26, 26, 27, 28, 28, 29,\n",
            "         29, 30, 30, 31, 31, 32,  8, 16, 30, 13, 31,  0, 17,  6, 24, 27, 14, 29,\n",
            "          1,  6, 18, 21, 27, 12, 18, 32,  2, 15, 26,  5, 32, 10, 19, 14, 22, 24,\n",
            "         13,  3, 23, 32, 31, 26, 29, 14, 11, 16,  4,  1, 15,  7, 22, 10, 17, 29,\n",
            "         31, 19, 21, 12, 32, 14, 25,  2, 28, 27,  1, 20,  3,  8, 10, 16, 13, 10,\n",
            "          2, 12, 27, 31, 24,  1, 25,  1, 12,  8, 17, 24],\n",
            "        [ 1,  2,  3,  4,  5,  6,  7,  8, 10, 11, 12, 13, 17, 19, 21, 31,  2,  3,\n",
            "          7, 13, 17, 19, 21, 30,  3,  7,  8,  9, 13, 27, 28, 32,  7, 12, 13,  6,\n",
            "         10,  6, 10, 16, 16, 30, 32, 33, 33, 33, 32, 33, 32, 33, 32, 33, 33, 32,\n",
            "         33, 32, 33, 25, 27, 29, 32, 33, 25, 27, 31, 31, 29, 33, 33, 31, 33, 32,\n",
            "         33, 32, 33, 32, 33, 33,  4,  7, 24,  6,  1, 28, 14, 20, 13,  1, 22, 18,\n",
            "         26, 11,  7, 32, 32, 19, 31, 25, 30, 25, 11, 28,  6, 33, 25, 25, 29, 32,\n",
            "         27, 30, 12, 26, 22, 22,  1, 11,  5,  2,  5, 28, 17, 11, 18, 16, 18, 20,\n",
            "         30, 24, 26, 16, 13,  1,  9, 10, 32, 14, 25, 27, 19, 13, 26,  8, 29, 32,\n",
            "         24, 22, 12,  6, 18, 20, 18, 10, 20, 21,  6, 22]])\n"
          ]
        }
      ],
      "source": [
        "from torch.optim import SGD\n",
        "\n",
        "def accuracy(pred, label):\n",
        "  # TODO: Implement the accuracy function. This function takes as input a\n",
        "  # pred tensor (the resulting tensor after sigmoid) and a label\n",
        "  # tensor (torch.LongTensor). Predicted values greater than 0.5 are\n",
        "  # classified as label 1, else they are classified as label 0.\n",
        "  # The returned accuracy should be rounded to 4 decimal places.\n",
        "  # For example, accuracy 0.82956 will be rounded to 0.8296.\n",
        "\n",
        "  accu = 0.0\n",
        "\n",
        "  ############# Your code here ############\n",
        "  pred_label = (pred > 0.5).long()\n",
        "  correct = (pred_label.view(-1) == label.view(-1)).sum().item()\n",
        "  accu = correct / label.size(0)\n",
        "  accu = round(accu, 4)\n",
        "  pass\n",
        "  #########################################\n",
        "\n",
        "  return accu\n",
        "\n",
        "def train(model, loss_fn, train_label, train_edge):\n",
        "  # TODO: Train the embedding layer here. You need to implement:\n",
        "  # (1) Run the model with the proper input\n",
        "  # (2) Feed the model's output into the loss_fn\n",
        "  # (3) Print both loss and accuracy of each epoch\n",
        "  # (as a sanity check, the loss should decrease during training)\n",
        "  #\n",
        "  # During testing feel free to change the number of epochs and learning rate.\n",
        "\n",
        "  epochs = 500\n",
        "  learning_rate = 0.1\n",
        "\n",
        "  optimizer = SGD(emb.parameters(), lr=learning_rate, momentum=0.9)\n",
        "\n",
        "  for i in range(epochs):\n",
        "\n",
        "    ############# Your code here ############\n",
        "    optimizer.zero_grad()\n",
        "    pred = model(train_edge)\n",
        "    loss = loss_fn(pred, train_label.float())\n",
        "    acc = accuracy(pred, train_label)\n",
        "    loss.backward()\n",
        "    optimizer.step()\n",
        "    ## Note: See the training steps above!\n",
        "    pass\n",
        "    #########################################\n",
        "\n",
        "if 'IS_GRADESCOPE_ENV' not in os.environ:\n",
        "  loss_fn = nn.BCELoss()\n",
        "  sigmoid = nn.Sigmoid()\n",
        "\n",
        "  # Generate the positive and negative labels\n",
        "  pos_label = torch.ones(pos_edge_index.shape[1], )\n",
        "  neg_label = torch.zeros(neg_edge_index.shape[1], )\n",
        "\n",
        "  # Concat positive and negative labels into one tensor\n",
        "  train_label = torch.cat([pos_label, neg_label], dim=0)\n",
        "\n",
        "  # Concat positive and negative edges into one tensor\n",
        "  # Since the network is very small, we do not split the edges into val/test sets\n",
        "  train_edge = torch.cat([pos_edge_index, neg_edge_index], dim=1)\n",
        "  print (train_edge)\n",
        "\n",
        "  model = EmbModel(emb, sigmoid)\n",
        "\n",
        "  train(model, loss_fn, train_label, train_edge)"
      ]
    },
    {
      "cell_type": "markdown",
      "metadata": {
        "id": "62LuURV24Jjk"
      },
      "source": [
        "## **Saving Your Model Predictions**!\n",
        "After you have successfully trained your embedding model, run the cell below to save your model's predictions on the training data. The function below will generate and save a csv file called *model_predictions.csv* to the local Colab files folder. This folder can be accessed by clicking the *Folder* icon on the left panel underneath the *Table of contents*, *Find and replace*, and *Code snippets* icons.\n",
        "\n",
        "When submitting this Colab you will have to download your model's predictions and submit them along with your Colab ipython notebook."
      ]
    },
    {
      "cell_type": "code",
      "execution_count": 31,
      "metadata": {
        "id": "7Jjz5J1W4GLj"
      },
      "outputs": [],
      "source": [
        "import pandas as pd\n",
        "import numpy as np\n",
        "\n",
        "def save_model_results(emb_model, train_label, train_edge):\n",
        "  \"\"\"\n",
        "    Helper function to save the model predictions and data\n",
        "    labels to a csv file for submission.\n",
        "  \"\"\"\n",
        "\n",
        "  # Generate model predictions\n",
        "  pred = emb_model(train_edge).detach()\n",
        "\n",
        "  # Create a pandas datafram with columns\n",
        "  # model_pred | binary_pred | label\n",
        "  data = {}\n",
        "  data['model_pred'] = pred\n",
        "  data['binary_pred'] = np.where(pred > 0.5, 1.0, 0.0)\n",
        "  data['label'] = train_label.detach()\n",
        "\n",
        "  df = pd.DataFrame(data=data)\n",
        "  # Save to csv\n",
        "  df.to_csv('model_predictions.csv', sep=',', index=False)\n",
        "\n",
        "if 'IS_GRADESCOPE_ENV' not in os.environ:\n",
        "  save_model_results(model, train_label, train_edge)"
      ]
    },
    {
      "cell_type": "markdown",
      "metadata": {
        "id": "WX2PSXnTDiNi"
      },
      "source": [
        "## Visualize the final node embeddings\n",
        "Now you can visually compare our embeddings with the embeddings before training. After training, you should oberserve that the two classes are more evidently separated. Note that since we are reducing the dimensionality of our embeddings from **16 --> 2** you may not see perfect linear separation.\n",
        "\n",
        "\n",
        "Overall, visualizing model / node embeddings is a great sanity check for your implementation, in addition to tracking the model's accuracy."
      ]
    },
    {
      "cell_type": "code",
      "execution_count": 32,
      "metadata": {
        "colab": {
          "base_uri": "https://localhost:8080/",
          "height": 522
        },
        "id": "MtNgl4VhYKow",
        "outputId": "49dec8c0-729e-4b04-ff09-bb3723ea6621"
      },
      "outputs": [
        {
          "output_type": "display_data",
          "data": {
            "text/plain": [
              "<Figure size 600x600 with 1 Axes>"
            ],
            "image/png": "[encoded data removed]"
          },
          "metadata": {}
        }
      ],
      "source": [
        "# Visualize the final learned embedding\n",
        "if 'IS_GRADESCOPE_ENV' not in os.environ:\n",
        "  visualize_emb(emb)"
      ]
    },
    {
      "cell_type": "markdown",
      "metadata": {
        "id": "FTNyrAoSVeq9"
      },
      "source": [
        "# Submission"
      ]
    },
    {
      "cell_type": "markdown",
      "metadata": {
        "id": "E_E7J_GkVhY_"
      },
      "source": [
        "You will need to submit two files on Gradescope to complete this notebook.\n",
        "\n",
        "1.   Your completed *XCS224W_Colab1.ipynb*. From the \"File\" menu select \"Download .ipynb\" to save a local copy of your completed Colab.\n",
        "2.   Your model predictions. Open up the local Colab file folder (by selecting the Folder icon on the left panel) and download *model_predictions.csv*\n",
        "\n",
        "For submitting your work, zip the files downloaded in steps 1 and 2 above and submit to gradescope. **NOTE:** DO NOT rename any of the downloaded files. The file names should be *XCS224W_Colab1.ipynb* and *model_predictions.csv*.\n",
        "\n"
      ]
    }
  ],
  "metadata": {
    "accelerator": "GPU",
    "colab": {
      "machine_shape": "hm",
      "provenance": [],
      "include_colab_link": true
    },
    "gpuClass": "standard",
    "kernelspec": {
      "display_name": "Python 3.7.3 64-bit",
      "language": "python",
      "name": "python3"
    },
    "language_info": {
      "codemirror_mode": {
        "name": "ipython",
        "version": 3
      },
      "file_extension": ".py",
      "mimetype": "text/x-python",
      "name": "python",
      "nbconvert_exporter": "python",
      "pygments_lexer": "ipython3",
      "version": "3.10.13"
    },
    "vscode": {
      "interpreter": {
        "hash": "31f2aee4e71d21fbe5cf8b01ff0e069b9275f58929596ceb00d14d90e3e16cd6"
      }
    }
  },
  "nbformat": 4,
  "nbformat_minor": 0
}